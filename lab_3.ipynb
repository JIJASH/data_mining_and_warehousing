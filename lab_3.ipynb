{
  "nbformat": 4,
  "nbformat_minor": 0,
  "metadata": {
    "colab": {
      "provenance": [],
      "mount_file_id": "1kCWetfca6QWQ-WnCbUDXA9ps8TNmw5OV",
      "authorship_tag": "ABX9TyMRpZpNoGDc4oEEo+ch+C3a",
      "include_colab_link": true
    },
    "kernelspec": {
      "name": "python3",
      "display_name": "Python 3"
    },
    "language_info": {
      "name": "python"
    }
  },
  "cells": [
    {
      "cell_type": "markdown",
      "metadata": {
        "id": "view-in-github",
        "colab_type": "text"
      },
      "source": [
        "<a href=\"https://colab.research.google.com/github/JIJASH/data_mining_and_warehousing/blob/main/lab_3.ipynb\" target=\"_parent\"><img src=\"https://colab.research.google.com/assets/colab-badge.svg\" alt=\"Open In Colab\"/></a>"
      ]
    },
    {
      "cell_type": "markdown",
      "source": [
        "# Lab III: ID3, Naive Bayes, Backpropagation"
      ],
      "metadata": {
        "id": "eQMVjkqOt4F0"
      }
    },
    {
      "cell_type": "code",
      "execution_count": 14,
      "metadata": {
        "colab": {
          "base_uri": "https://localhost:8080/"
        },
        "id": "m6xdRDz_ZZAr",
        "outputId": "0adc6505-3a25-436c-ebd2-b0fe88358e9b"
      },
      "outputs": [
        {
          "output_type": "stream",
          "name": "stdout",
          "text": [
            "Data loaded from /content/drive/MyDrive/data_mining_and_warehousing/laptop_buy_data.csv: 20 records\n"
          ]
        }
      ],
      "source": [
        "import csv, math, random\n",
        "\n",
        "# Load data from CSV file\n",
        "def load_csv(filename):\n",
        "    data = []\n",
        "    with open(filename, 'r') as file:\n",
        "        csv_reader = csv.DictReader(file)\n",
        "        for row in csv_reader:\n",
        "            data.append(row)\n",
        "    return data\n",
        "\n",
        "# Try different possible paths for the CSV file\n",
        "paths = ['/content/drive/MyDrive/data_mining_and_warehousing/laptop_buy_data.csv']\n",
        "\n",
        "\n",
        "data = None\n",
        "for path in paths:\n",
        "    try:\n",
        "        data = load_csv(path)\n",
        "        print(f\"Data loaded from {path}: {len(data)} records\")\n",
        "        break\n",
        "    except FileNotFoundError:\n",
        "        continue\n",
        "\n",
        "if data is None:\n",
        "    print(\"CSV file not found. Please upload laptop_buy_data.csv or check the path.\")\n",
        "    # Fallback to sample data\n",
        "    data = [\n",
        "        {'Age': 'Youth', 'Income': 'Low', 'Student': 'Yes', 'Credit_Rating': 'Excellent', 'Class': 'Buy'},\n",
        "        {'Age': 'Youth', 'Income': 'Low', 'Student': 'No', 'Credit_Rating': 'Excellent', 'Class': 'No'},\n",
        "        {'Age': 'Middle_Aged', 'Income': 'Low', 'Student': 'No', 'Credit_Rating': 'Excellent', 'Class': 'No'},\n",
        "        {'Age': 'Senior', 'Income': 'Low', 'Student': 'No', 'Credit_Rating': 'Fair', 'Class': 'No'},\n",
        "        {'Age': 'Middle_Aged', 'Income': 'Low', 'Student': 'Yes', 'Credit_Rating': 'Excellent', 'Class': 'No'},\n",
        "        {'Age': 'Middle_Aged', 'Income': 'Low', 'Student': 'Yes', 'Credit_Rating': 'Fair', 'Class': 'Buy'},\n",
        "        {'Age': 'Youth', 'Income': 'Medium', 'Student': 'No', 'Credit_Rating': 'Fair', 'Class': 'Buy'},\n",
        "        {'Age': 'Senior', 'Income': 'High', 'Student': 'Yes', 'Credit_Rating': 'Fair', 'Class': 'No'},\n",
        "        {'Age': 'Senior', 'Income': 'Low', 'Student': 'No', 'Credit_Rating': 'Excellent', 'Class': 'Buy'},\n",
        "        {'Age': 'Youth', 'Income': 'High', 'Student': 'Yes', 'Credit_Rating': 'Fair', 'Class': 'Buy'}\n",
        "    ]\n",
        "    print(f\"Using sample data: {len(data)} records\")"
      ]
    },
    {
      "cell_type": "code",
      "source": [
        "# 1. ID3 Algorithm\n",
        "def entropy(data):\n",
        "    classes = {}\n",
        "    for row in data:\n",
        "        classes[row['Class']] = classes.get(row['Class'], 0) + 1\n",
        "    total, entropy = len(data), 0\n",
        "    for count in classes.values():\n",
        "        p = count / total\n",
        "        entropy -= p * math.log2(p)\n",
        "    return entropy\n",
        "\n",
        "def info_gain(data, attr):\n",
        "    total_entropy = entropy(data)\n",
        "    values = set(row[attr] for row in data)\n",
        "    weighted_entropy = 0\n",
        "    for value in values:\n",
        "        subset = [row for row in data if row[attr] == value]\n",
        "        weighted_entropy += (len(subset) / len(data)) * entropy(subset)\n",
        "    return total_entropy - weighted_entropy\n",
        "\n",
        "def build_tree(data, attrs):\n",
        "    classes = [row['Class'] for row in data]\n",
        "    if len(set(classes)) == 1: return classes[0]\n",
        "    if not attrs: return max(set(classes), key=classes.count)\n",
        "\n",
        "    best_attr = max(attrs, key=lambda attr: info_gain(data, attr))\n",
        "    tree = {best_attr: {}}\n",
        "    values = set(row[best_attr] for row in data)\n",
        "    for value in values:\n",
        "        subset = [row for row in data if row[best_attr] == value]\n",
        "        tree[best_attr][value] = build_tree(subset, [a for a in attrs if a != best_attr])\n",
        "    return tree\n",
        "\n",
        "def predict_id3(tree, instance):\n",
        "    if isinstance(tree, str): return tree\n",
        "    attr = list(tree.keys())[0]\n",
        "    return predict_id3(tree[attr][instance[attr]], instance)\n",
        "\n",
        "# Train and test ID3\n",
        "id3_tree = build_tree(data, ['Age', 'Income', 'Student', 'Credit_Rating'])\n",
        "correct = sum(1 for row in data if predict_id3(id3_tree, row) == row['Class'])\n",
        "print(f\"ID3 Accuracy: {correct}/{len(data)} = {correct/len(data):.2%}\")"
      ],
      "metadata": {
        "colab": {
          "base_uri": "https://localhost:8080/"
        },
        "id": "pUKlHMBHuLLf",
        "outputId": "d7062c6e-e742-4fb1-8e7c-82c9ec8fcca5"
      },
      "execution_count": 15,
      "outputs": [
        {
          "output_type": "stream",
          "name": "stdout",
          "text": [
            "ID3 Accuracy: 18/20 = 90.00%\n"
          ]
        }
      ]
    },
    {
      "cell_type": "code",
      "source": [
        "# 2. Naive Bayes Algorithm\n",
        "class NaiveBayes:\n",
        "    def __init__(self):\n",
        "        self.priors, self.likelihoods = {}, {}\n",
        "\n",
        "    def train(self, data):\n",
        "        classes = [row['Class'] for row in data]\n",
        "        total = len(data)\n",
        "        # Priors\n",
        "        for c in set(classes):\n",
        "            self.priors[c] = classes.count(c) / total\n",
        "\n",
        "        # Likelihoods\n",
        "        features = ['Age', 'Income', 'Student', 'Credit_Rating']\n",
        "        for c in self.priors:\n",
        "            self.likelihoods[c] = {}\n",
        "            class_data = [row for row in data if row['Class'] == c]\n",
        "            for feature in features:\n",
        "                self.likelihoods[c][feature] = {}\n",
        "                feature_values = set(row[feature] for row in data)\n",
        "                for value in feature_values:\n",
        "                    count = sum(1 for row in class_data if row[feature] == value)\n",
        "                    self.likelihoods[c][feature][value] = (count + 1) / (len(class_data) + len(feature_values))\n",
        "\n",
        "    def predict(self, instance):\n",
        "        scores = {}\n",
        "        for c in self.priors:\n",
        "            score = self.priors[c]\n",
        "            for feature in ['Age', 'Income', 'Student', 'Credit_Rating']:\n",
        "                score *= self.likelihoods[c][feature].get(instance[feature], 1e-6)\n",
        "            scores[c] = score\n",
        "        return max(scores, key=scores.get)\n",
        "\n",
        "# Train and test Naive Bayes\n",
        "nb = NaiveBayes()\n",
        "nb.train(data)\n",
        "correct = sum(1 for row in data if nb.predict(row) == row['Class'])\n",
        "print(f\"Naive Bayes Accuracy: {correct}/{len(data)} = {correct/len(data):.2%}\")"
      ],
      "metadata": {
        "colab": {
          "base_uri": "https://localhost:8080/"
        },
        "id": "C3Sv-fpjuXTv",
        "outputId": "19199eba-c059-46f6-e9c8-051ca24e2b1a"
      },
      "execution_count": 16,
      "outputs": [
        {
          "output_type": "stream",
          "name": "stdout",
          "text": [
            "Naive Bayes Accuracy: 12/20 = 60.00%\n"
          ]
        }
      ]
    },
    {
      "cell_type": "code",
      "source": [
        "# 3. Backpropagation Neural Network\n",
        "class NeuralNetwork:\n",
        "    def __init__(self):\n",
        "        self.w1 = [[random.uniform(-1, 1) for _ in range(3)] for _ in range(2)]\n",
        "        self.w2 = [[random.uniform(-1, 1)] for _ in range(3)]\n",
        "        self.b1 = [random.uniform(-1, 1) for _ in range(3)]\n",
        "        self.b2 = [random.uniform(-1, 1)]\n",
        "        self.lr = 0.5\n",
        "\n",
        "    def tanh(self, x): return math.tanh(x)\n",
        "    def tanh_derivative(self, x): return 1 - math.tanh(x) ** 2\n",
        "\n",
        "    def forward(self, inputs):\n",
        "        self.z1 = [self.b1[i] + sum(inputs[j] * self.w1[j][i] for j in range(2)) for i in range(3)]\n",
        "        self.a1 = [self.tanh(z) for z in self.z1]\n",
        "        self.z2 = [self.b2[0] + sum(self.a1[i] * self.w2[i][0] for i in range(3))]\n",
        "        self.a2 = [self.tanh(self.z2[0])]\n",
        "        return self.a2[0]\n",
        "\n",
        "    def backward(self, inputs, target):\n",
        "        output_error = (target - self.a2[0]) * self.tanh_derivative(self.z2[0])\n",
        "        hidden_errors = [output_error * self.w2[i][0] * self.tanh_derivative(self.z1[i]) for i in range(3)]\n",
        "\n",
        "        for i in range(3):\n",
        "            self.w2[i][0] += self.lr * output_error * self.a1[i]\n",
        "        self.b2[0] += self.lr * output_error\n",
        "\n",
        "        for i in range(2):\n",
        "            for j in range(3):\n",
        "                self.w1[i][j] += self.lr * hidden_errors[j] * inputs[i]\n",
        "        for i in range(3):\n",
        "            self.b1[i] += self.lr * hidden_errors[i]\n",
        "\n",
        "    def train(self, training_data, epochs=1000):\n",
        "        for epoch in range(epochs):\n",
        "            for inputs, target in training_data:\n",
        "                self.forward(inputs)\n",
        "                self.backward(inputs, target)\n",
        "\n",
        "# XOR data and training\n",
        "xor_data = [([-1, -1], -1), ([-1, 1], 1), ([1, -1], 1), ([1, 1], -1)]\n",
        "nn = NeuralNetwork()\n",
        "nn.train(xor_data, 2000)\n",
        "\n",
        "# Test\n",
        "correct = 0\n",
        "for inputs, target in xor_data:\n",
        "    output = nn.forward(inputs)\n",
        "    predicted = 1 if output > 0 else -1\n",
        "    correct += (predicted == target)\n",
        "    print(f\"Input: {inputs}, Target: {target}, Output: {output:.3f}, Predicted: {predicted}\")\n",
        "print(f\"Neural Network Accuracy: {correct}/{len(xor_data)} = {correct/len(xor_data):.2%}\")"
      ],
      "metadata": {
        "colab": {
          "base_uri": "https://localhost:8080/"
        },
        "id": "RKKpdJNZuZNj",
        "outputId": "3c673f61-bf3a-4363-f858-0f3d34b867ba"
      },
      "execution_count": 17,
      "outputs": [
        {
          "output_type": "stream",
          "name": "stdout",
          "text": [
            "Input: [-1, -1], Target: -1, Output: -0.992, Predicted: -1\n",
            "Input: [-1, 1], Target: 1, Output: 0.989, Predicted: 1\n",
            "Input: [1, -1], Target: 1, Output: 0.988, Predicted: 1\n",
            "Input: [1, 1], Target: -1, Output: -0.992, Predicted: -1\n",
            "Neural Network Accuracy: 4/4 = 100.00%\n"
          ]
        }
      ]
    }
  ]
}